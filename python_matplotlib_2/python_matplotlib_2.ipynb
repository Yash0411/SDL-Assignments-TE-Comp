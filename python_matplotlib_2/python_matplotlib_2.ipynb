{
  "nbformat": 4,
  "nbformat_minor": 0,
  "metadata": {
    "colab": {
      "name": "Untitled1.ipynb",
      "provenance": []
    },
    "kernelspec": {
      "name": "python3",
      "display_name": "Python 3"
    }
  },
  "cells": [
    {
      "cell_type": "code",
      "metadata": {
        "id": "NwdK4KhMGwCl",
        "colab_type": "code",
        "colab": {}
      },
      "source": [
        "# TECOB220\n",
        "# Yash Morankar\n",
        "\n",
        "import csv\n",
        "import matplotlib.pyplot as plt"
      ],
      "execution_count": 2,
      "outputs": []
    },
    {
      "cell_type": "code",
      "metadata": {
        "id": "AxvjQfG7Do3z",
        "colab_type": "code",
        "colab": {}
      },
      "source": [
        "#============== Write data into csv =================\n",
        "# for Bar Plot\n",
        "heading = [\"Country_Name\",\"GOLD MEDALS\",\"SILVER MEDALS\",\"BRONZE MEDALS\"]\n",
        "entry1 = [\"Aus\",120,60,30]\n",
        "entry2 = [\"Ind\",110,70,40]\n",
        "entry3 = [\"Eng\",90,60,50]\n",
        "\n",
        "data = [heading, entry1, entry2, entry3]\n",
        "\n",
        "with open(\"Game_medal.csv\",'w') as f:\n",
        "    writer = csv.writer(f,lineterminator=\"\\n\")\n",
        "    writer.writerows(data)\n",
        "      "
      ],
      "execution_count": 5,
      "outputs": []
    },
    {
      "cell_type": "code",
      "metadata": {
        "id": "x2TxN_aEDstu",
        "colab_type": "code",
        "colab": {
          "base_uri": "https://localhost:8080/",
          "height": 301
        },
        "outputId": "464ce00e-3274-434b-cbfe-2841ddf83d90"
      },
      "source": [
        "#============== Plotting Graph =================\n",
        "# Bar Chart\n",
        "Country = []\n",
        "value1 = []\n",
        "value2 = []\n",
        "value3 = []\n",
        "\n",
        "with open(\"Game_medal.csv\",'r') as f:\n",
        "    reader = csv.reader(f)\n",
        "    heading = next(reader)\n",
        "    for row in reader:\n",
        "        Country.append(list(row)[0])\n",
        "        value1.append(int(list(row)[1]))\n",
        "        value2.append(int(list(row)[2]))\n",
        "        value3.append(int(list(row)[3]))\n",
        "\n",
        "xAxis1 = [i - 0.2 for i, _ in enumerate(Country)]\n",
        "xAxis2 = [i for i, _ in enumerate(Country)]\n",
        "xAxis3 = [i + 0.2 for i, _ in enumerate(Country)]\n",
        "\n",
        "plt.bar(xAxis1, value1, width=0.2, color='skyblue')\n",
        "plt.bar(xAxis2, value2, width=0.2, color='orange')\n",
        "plt.bar(xAxis3, value3, width=0.2, color='green')\n",
        "\n",
        "plt.title('Olympics 2018', fontsize=16, color='magenta')\n",
        "plt.xlabel('Nations', fontsize=14, color='cyan')\n",
        "plt.ylabel('Medals', fontsize=14, color='cyan')\n",
        "plt.xticks([i for i, _ in enumerate(Country)], Country)\n",
        "plt.legend(heading[1:], loc =\"upper right\")\n",
        "\n",
        "plt.show()"
      ],
      "execution_count": 35,
      "outputs": [
        {
          "output_type": "display_data",
          "data": {
            "image/png": "[encoded data removed]",
            "text/plain": [
              "<Figure size 432x288 with 1 Axes>"
            ]
          },
          "metadata": {
            "tags": [],
            "needs_background": "light"
          }
        }
      ]
    }
  ]
}